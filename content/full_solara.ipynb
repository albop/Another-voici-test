{
 "cells": [
  {
   "cell_type": "code",
   "execution_count": null,
   "metadata": {},
   "outputs": [],
   "source": [
    "### \n",
    "### workaround to import solara\n",
    "###\n",
    "\n",
    "from mock import MagicMock\n",
    "import sys\n",
    "sys.modules['fcntl'] = MagicMock()\n",
    "sys.modules['nest_asyncio'] = MagicMock()\n",
    "\n",
    "import ipyvuetify\n",
    "sys.modules['ipyvuetify.extra'] = MagicMock()\n",
    "# ipyvuetify.extra = MagicMock()\n",
    "\n",
    "import comm\n",
    "old = comm.create_comm\n",
    "comm.create_comm = None\n",
    "comm._create_comm = \"Not None\"\n",
    "import solara\n",
    "comm.create_comm = old\n",
    "comm._create_comm = None\n",
    "\n",
    "del sys.modules['solara.server']\n",
    "\n",
    "\n",
    "def _using_solara_server():\n",
    "    return False\n",
    "\n",
    "solara.toestand._using_solara_server = _using_solara_server"
   ]
  },
  {
   "cell_type": "code",
   "execution_count": null,
   "metadata": {},
   "outputs": [],
   "source": [
    "import reacton.bqplot as bqplot\n",
    "import numpy as np\n",
    "import solara"
   ]
  },
  {
   "cell_type": "code",
   "execution_count": null,
   "metadata": {},
   "outputs": [],
   "source": [
    "x = np.linspace(0, 2, 5)\n",
    "\n",
    "title = \"Interactive sine wave\"\n",
    "freq = solara.reactive(2.0)\n",
    "phase = solara.reactive(0.1)\n",
    "\n",
    "\n",
    "@solara.component\n",
    "def Page():\n",
    "    y = np.sin(x * freq.value + phase.value)\n",
    "\n",
    "    solara.FloatSlider(\"Frequency\", value=freq, min=0, max=10)\n",
    "    solara.FloatSlider(\"Phase\", value=phase, min=0, max=np.pi, step=0.1)\n",
    "\n",
    "    x_scale = bqplot.LinearScale()\n",
    "    y_scale = bqplot.LinearScale()\n",
    "\n",
    "    lines = bqplot.Lines(x=x, y=y, scales={\"x\": x_scale, \"y\": y_scale}, stroke_width=3)\n",
    "    x_axis = bqplot.Axis(scale=x_scale)\n",
    "    y_axis = bqplot.Axis(scale=y_scale, orientation=\"vertical\")\n",
    "    bqplot.Figure(axes=[x_axis, y_axis], marks=[lines], scale_x=x_scale, scale_y=y_scale, layout={\"min_width\": \"800px\"})\n",
    "\n",
    "    solara.Text(f\"x: {x}\")\n",
    "    solara.Text(f\"y: {y}\")"
   ]
  },
  {
   "cell_type": "code",
   "execution_count": null,
   "metadata": {},
   "outputs": [],
   "source": [
    "Page()"
   ]
  }
 ],
 "metadata": {
  "kernelspec": {
   "display_name": "Python 3 (ipykernel)",
   "language": "python",
   "name": "python3"
  },
  "language_info": {
   "codemirror_mode": {
    "name": "ipython",
    "version": 3
   },
   "file_extension": ".py",
   "mimetype": "text/x-python",
   "name": "python",
   "nbconvert_exporter": "python",
   "pygments_lexer": "ipython3",
   "version": "3.11.7"
  }
 },
 "nbformat": 4,
 "nbformat_minor": 4
}
