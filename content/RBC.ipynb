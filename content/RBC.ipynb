{
 "cells": [
  {
   "cell_type": "code",
   "execution_count": null,
   "metadata": {},
   "outputs": [],
   "source": [
    "txt = r\"\"\"%Définition des variables et des paramètres\n",
    "var k i y a n c r w;\n",
    "varexo epsilon;\n",
    "parameters beta delta alpha nss khi eta rho;\n",
    "\n",
    "%Valeur des paramètres\n",
    "beta=0.985;\n",
    "alpha=0.33;\n",
    "delta=0.025;\n",
    "rho=0.95;\n",
    "eta=1;\n",
    "nss=0.33;\n",
    "khi=(1-alpha)*(1-nss)^eta/nss*(1/beta-1+delta)/(1/beta-1+delta-delta*alpha);\n",
    "\n",
    "%Equations du modèle\n",
    "model;\n",
    "1/c=beta*(r(1)+1-delta)/c(1);\n",
    "w=khi*c/(1-n)^eta;\n",
    "k=(1-delta)*k(-1)+i;\n",
    "y=a*k^alpha*n^(1-alpha);\n",
    "log(a)=rho*log(a(-1))+epsilon;\n",
    "w=(1-alpha)*y/n;\n",
    "r=alpha*y/k(-1);\n",
    "y=c+i;\n",
    "end;\n",
    "\n",
    "%Valeur des variables à l'état régulier\n",
    "steady_state_model;\n",
    "a=1;\n",
    "r=1/beta+1-delta;\n",
    "n=nss;\n",
    "k=(alpha/r)^(1/(1-alpha))*n;\n",
    "y=k^alpha*n^(1-alpha);\n",
    "w=(1-alpha)*y/n;\n",
    "i=delta*k;\n",
    "c=y-i;\n",
    "end;\n",
    "\n",
    "%Définition des chocs exogènes\n",
    "shocks;\n",
    "var epsilon; \n",
    "stderr 0.009;\n",
    "end;\n",
    "\"\"\""
   ]
  },
  {
   "cell_type": "code",
   "execution_count": null,
   "metadata": {},
   "outputs": [],
   "source": [
    "from dyno.gui.dynare import dyno_gui\n",
    "\n",
    "Page = dyno_gui(\"examples/modfiles/RBC.mod\", parchoice={'beta':[0.99, 0.9, 0.99]})\n"
   ]
  }
 ],
 "metadata": {
  "kernelspec": {
   "display_name": "Python 3",
   "language": "python",
   "name": "python3"
  },
  "language_info": {
   "name": "python",
   "version": "3.11.6"
  }
 },
 "nbformat": 4,
 "nbformat_minor": 2
}
